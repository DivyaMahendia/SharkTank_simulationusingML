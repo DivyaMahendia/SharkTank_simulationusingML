{
  "cells": [
    {
      "cell_type": "code",
      "execution_count": null,
      "metadata": {
        "id": "WBqIYiMpVBTr"
      },
      "outputs": [],
      "source": [
        "import pandas as pd"
      ]
    },
    {
      "cell_type": "code",
      "execution_count": null,
      "metadata": {
        "id": "i_lovvGzmr-u"
      },
      "outputs": [],
      "source": [
        "import numpy as np\n",
        "from  sklearn.decomposition import PCA\n",
        "import matplotlib.pyplot as plt\n",
        "import seaborn as sns"
      ]
    },
    {
      "cell_type": "code",
      "execution_count": null,
      "metadata": {
        "id": "gK1v48OeGAVg"
      },
      "outputs": [],
      "source": [
        "from sklearn.metrics import accuracy_score,average_precision_score,classification_report"
      ]
    },
    {
      "cell_type": "code",
      "execution_count": null,
      "metadata": {
        "id": "nVECHeOYfUhl"
      },
      "outputs": [],
      "source": [
        "df1 = pd.read_excel('/content/Copy of divya_ml_shark.xlsx')"
      ]
    },
    {
      "cell_type": "code",
      "execution_count": null,
      "metadata": {
        "id": "gGb1q93Wfr2I"
      },
      "outputs": [],
      "source": [
        "df2 = pd.read_excel('/content/additional_data_ml.xlsx')"
      ]
    },
    {
      "cell_type": "code",
      "execution_count": null,
      "metadata": {
        "colab": {
          "base_uri": "https://localhost:8080/"
        },
        "id": "xIMce--bfxBz",
        "outputId": "021cd144-ee28-4ea6-d4a5-cf5651749381"
      },
      "outputs": [
        {
          "data": {
            "text/plain": [
              "Index(['category', 'companyEvaluation _(in lakhs)', 'client_est_fund',\n",
              "       'client_equity(in %)', 'prerevenue', 'B2B_B2C ', 'current_investors',\n",
              "       'present_competitor', 'yearly_revenue', 'gross_margin',\n",
              "       'shark_estimated_valuation', 'aman_gupta(in/out)', 'Anupam(in/out)',\n",
              "       'ashneer(in/out)', 'Namita(in/out)', 'vineeta(in/out)',\n",
              "       'shark_est_invest', 'shark_equity', 'no_of_shark_team_during_proposal',\n",
              "       'no_of_shark_with_confirmed_deal', 'client_acceptance ', 'Domain',\n",
              "       'market(%)', 'monthly_sales'],\n",
              "      dtype='object')"
            ]
          },
          "execution_count": 6,
          "metadata": {},
          "output_type": "execute_result"
        }
      ],
      "source": [
        "df1.columns"
      ]
    },
    {
      "cell_type": "code",
      "execution_count": null,
      "metadata": {
        "colab": {
          "base_uri": "https://localhost:8080/"
        },
        "id": "aQWIneGQf4KF",
        "outputId": "2cbaaa2d-0325-4b4b-d0eb-78c9429188e5"
      },
      "outputs": [
        {
          "data": {
            "text/plain": [
              "Index(['category', 'companyEvaluation _(in lakhs)', 'client_est_fund',\n",
              "       'client_equity(in %)', 'prerevenue', 'B2B_B2C ', 'current_investors',\n",
              "       'present_competitor', 'yearly_revenue', 'gross_margin',\n",
              "       'shark_estimated_valuation', 'aman_gupta(in/out)', 'Anupam(in/out)',\n",
              "       'ashneer(in/out)', 'Namita(in/out)', 'vineeta(in/out)',\n",
              "       'no_of_shark_team_during_proposal', 'no_of_shark_with_confirmed_deal',\n",
              "       'shark_fund', 'ROUND(INT)', 'client_acceptance',\n",
              "       'shark equity(original)', 'shark est_equity(/100)'],\n",
              "      dtype='object')"
            ]
          },
          "execution_count": 7,
          "metadata": {},
          "output_type": "execute_result"
        }
      ],
      "source": [
        "df2.columns"
      ]
    },
    {
      "cell_type": "markdown",
      "metadata": {
        "id": "7XvSFXM2HFUR"
      },
      "source": [
        "Data Preparation"
      ]
    },
    {
      "cell_type": "code",
      "execution_count": null,
      "metadata": {
        "id": "CqTuYpbtf59S"
      },
      "outputs": [],
      "source": [
        "dct = {'ROUND(INT)':'shark_equity',\n",
        "       'B2B_B2C ':'B2B_B2C',\n",
        " 'shark_fund':'shark_est_invest'}"
      ]
    },
    {
      "cell_type": "code",
      "execution_count": null,
      "metadata": {
        "id": "wAPGVJX1hf4V"
      },
      "outputs": [],
      "source": [
        "df2 = df2.rename(dct,axis=1)"
      ]
    },
    {
      "cell_type": "code",
      "execution_count": null,
      "metadata": {
        "id": "-MlmoMkFEVWl"
      },
      "outputs": [],
      "source": [
        "df1 = df1.rename({'client_acceptance ':'client_acceptance','B2B_B2C ':'B2B_B2C'},axis=1)"
      ]
    },
    {
      "cell_type": "code",
      "execution_count": null,
      "metadata": {
        "colab": {
          "base_uri": "https://localhost:8080/"
        },
        "id": "wWrZKvsMir1a",
        "outputId": "96de0036-a042-434b-ed50-18dceda6af3e"
      },
      "outputs": [
        {
          "data": {
            "text/plain": [
              "Index(['category', 'companyEvaluation _(in lakhs)', 'client_est_fund',\n",
              "       'client_equity(in %)', 'prerevenue', 'B2B_B2C', 'current_investors',\n",
              "       'present_competitor', 'yearly_revenue', 'gross_margin',\n",
              "       'shark_estimated_valuation', 'aman_gupta(in/out)', 'Anupam(in/out)',\n",
              "       'ashneer(in/out)', 'Namita(in/out)', 'vineeta(in/out)',\n",
              "       'no_of_shark_team_during_proposal', 'no_of_shark_with_confirmed_deal',\n",
              "       'shark_est_invest', 'shark_equity', 'client_acceptance',\n",
              "       'shark equity(original)', 'shark est_equity(/100)'],\n",
              "      dtype='object')"
            ]
          },
          "execution_count": 11,
          "metadata": {},
          "output_type": "execute_result"
        }
      ],
      "source": [
        "df2.columns"
      ]
    },
    {
      "cell_type": "code",
      "execution_count": null,
      "metadata": {
        "id": "6zPlQ6X7iyxK"
      },
      "outputs": [],
      "source": [
        "df2_e = df2.drop(['shark equity(original)',\n",
        "       'shark est_equity(/100)'],axis=1)"
      ]
    },
    {
      "cell_type": "code",
      "execution_count": null,
      "metadata": {
        "id": "ozymkgqCjTWp"
      },
      "outputs": [],
      "source": [
        "df1_e = df1"
      ]
    },
    {
      "cell_type": "code",
      "execution_count": null,
      "metadata": {
        "id": "Y_RY9ja9j1W5"
      },
      "outputs": [],
      "source": [
        "df_main = pd.concat([df1_e,df2_e])"
      ]
    },
    {
      "cell_type": "code",
      "execution_count": null,
      "metadata": {
        "colab": {
          "base_uri": "https://localhost:8080/"
        },
        "id": "dCtiqP6L7YrM",
        "outputId": "3161708b-5c29-4d79-d8ba-012d8ab47eac"
      },
      "outputs": [
        {
          "data": {
            "text/plain": [
              "Index(['category', 'companyEvaluation _(in lakhs)', 'client_est_fund',\n",
              "       'client_equity(in %)', 'prerevenue', 'B2B_B2C', 'current_investors',\n",
              "       'present_competitor', 'yearly_revenue', 'gross_margin',\n",
              "       'shark_estimated_valuation', 'aman_gupta(in/out)', 'Anupam(in/out)',\n",
              "       'ashneer(in/out)', 'Namita(in/out)', 'vineeta(in/out)',\n",
              "       'shark_est_invest', 'shark_equity', 'no_of_shark_team_during_proposal',\n",
              "       'no_of_shark_with_confirmed_deal', 'client_acceptance', 'Domain',\n",
              "       'market(%)', 'monthly_sales'],\n",
              "      dtype='object')"
            ]
          },
          "execution_count": 15,
          "metadata": {},
          "output_type": "execute_result"
        }
      ],
      "source": [
        "df_main.columns"
      ]
    },
    {
      "cell_type": "code",
      "execution_count": null,
      "metadata": {
        "colab": {
          "base_uri": "https://localhost:8080/"
        },
        "id": "UAUe876WLAuz",
        "outputId": "f55a028f-80f1-41be-f65a-7eb241725fb8"
      },
      "outputs": [
        {
          "name": "stdout",
          "output_type": "stream",
          "text": [
            "[0 1]\n",
            "[1 0]\n",
            "[0 1]\n",
            "[1 0]\n"
          ]
        }
      ],
      "source": [
        "l = ['Anupam(in/out)',\n",
        "       'ashneer(in/out)', 'Namita(in/out)', 'vineeta(in/out)']\n",
        "for i in l:\n",
        "  df_main[i] = df_main[i].replace(['IN','OUT'],[1,0])\n",
        "  print(df_main[i].unique())"
      ]
    },
    {
      "cell_type": "code",
      "execution_count": null,
      "metadata": {
        "id": "zcdEA0acLXBj"
      },
      "outputs": [],
      "source": [
        "df_main['aman_gupta(in/out)'] = df_main['aman_gupta(in/out)'].replace(['IN','OUT'],[1,0])"
      ]
    },
    {
      "cell_type": "code",
      "execution_count": null,
      "metadata": {
        "colab": {
          "base_uri": "https://localhost:8080/"
        },
        "id": "8ZsL7YAP9LMp",
        "outputId": "544a3f5c-66c3-402e-faa0-39bb09fe1d08"
      },
      "outputs": [
        {
          "data": {
            "text/plain": [
              "array(['no', 'yes', 'no '], dtype=object)"
            ]
          },
          "execution_count": 18,
          "metadata": {},
          "output_type": "execute_result"
        }
      ],
      "source": [
        "df_main.prerevenue.unique()"
      ]
    },
    {
      "cell_type": "code",
      "execution_count": null,
      "metadata": {
        "id": "goQVjvgU9Pvb"
      },
      "outputs": [],
      "source": [
        "df_main['prerevenue'] = df_main['prerevenue'].replace(['no '],'no')"
      ]
    },
    {
      "cell_type": "code",
      "execution_count": 81,
      "metadata": {
        "colab": {
          "base_uri": "https://localhost:8080/"
        },
        "id": "YHsG30ASHqUR",
        "outputId": "1d510301-c6d6-44d2-fbb4-4b40ab081431"
      },
      "outputs": [
        {
          "data": {
            "text/plain": [
              "(137, 24)"
            ]
          },
          "execution_count": 81,
          "metadata": {},
          "output_type": "execute_result"
        }
      ],
      "source": [
        "df_main.shape"
      ]
    },
    {
      "cell_type": "code",
      "execution_count": null,
      "metadata": {
        "colab": {
          "base_uri": "https://localhost:8080/"
        },
        "id": "5h5a4S6j9fzX",
        "outputId": "c5869197-3bbf-4d79-9776-da8f45bbec75"
      },
      "outputs": [
        {
          "data": {
            "text/plain": [
              "array(['B2C ,B2B', 'B2C', 'prerevenue', '100% b2b', 'B2B', 'prerevenue '],\n",
              "      dtype=object)"
            ]
          },
          "execution_count": 20,
          "metadata": {},
          "output_type": "execute_result"
        }
      ],
      "source": [
        "df_main['B2B_B2C'].unique()"
      ]
    },
    {
      "cell_type": "code",
      "execution_count": null,
      "metadata": {
        "id": "F3yt_eBA-FZA"
      },
      "outputs": [],
      "source": [
        "df_main['B2B_B2C'] = df_main['B2B_B2C'].replace(['100% b2b','prerevenue '],['B2B', 'prerevenue'])"
      ]
    },
    {
      "cell_type": "code",
      "execution_count": null,
      "metadata": {
        "id": "fogzzehO79v-"
      },
      "outputs": [],
      "source": [
        "df_without_categorical = df_main.drop(['category', 'B2B_B2C','prerevenue'],axis=1)"
      ]
    },
    {
      "cell_type": "code",
      "execution_count": null,
      "metadata": {
        "colab": {
          "base_uri": "https://localhost:8080/"
        },
        "id": "0u4aePIkHWVD",
        "outputId": "a2544c8f-b751-4b20-b268-b25f3574cb24"
      },
      "outputs": [
        {
          "data": {
            "text/plain": [
              "array(['aman, ashneer, vineeta', 'aman',\n",
              "       'ashneer,  anupam , aman,vineeta', 'ashneer',\n",
              "       'Namita,  Vineeta,  aman', 'Vineeta,ashneer', 'namita,ashneer',\n",
              "       'no', 'aman,ashneer,vineeta', 'ALL OUT(LESS SCALING FACTOR)',\n",
              "       'namita', 'ALL OUT(LESS MARKET)', 'ashneer,  anupam',\n",
              "       'ashneer anupam ', 'namita vineeta ', 'ALL OUT(HIGH EVALUATION)',\n",
              "       'vinneta', 'vineeta, anupam', 'ALL OUT(LESS MARGIN)',\n",
              "       'aman,namita', 'aman, anupam', 'ALL OUT(LESS SCALING)',\n",
              "       'all sharks', 'ashneer,aman', 'aman, ashneer', 'anupam,vineeta',\n",
              "       'vineeta', 'anupam', 'aman,vineeta', 'ashneer,aman,vineeta',\n",
              "       'anupam,namita', 'ALL SHARKS', 'aman,ashneer', 'ashneer,namita',\n",
              "       'aman,anupam', 'namita,vineeta', 'ashneer,vineeta',\n",
              "       'anupam,ashneer,vineeta'], dtype=object)"
            ]
          },
          "execution_count": 23,
          "metadata": {},
          "output_type": "execute_result"
        }
      ],
      "source": [
        "df_main.client_acceptance.unique()"
      ]
    },
    {
      "cell_type": "code",
      "execution_count": null,
      "metadata": {
        "id": "DUaogpgtJQIB"
      },
      "outputs": [],
      "source": [
        "df_out = df_main[(df_main['client_acceptance'] == 'ALL OUT(LESS SCALING FACTOR)') |\n",
        "                 (df_main['client_acceptance'] ==  'ALL OUT(LESS MARKET)') |\n",
        "                 (df_main['client_acceptance'] == 'ALL OUT(LESS MARGIN)' ) |\n",
        "                 (df_main['client_acceptance'] == 'ALL OUT(HIGH EVALUATION)' ) |\n",
        "                 (df_main['client_acceptance'] == 'ALL OUT(LESS SCALING)' ) \n",
        "                 ]"
      ]
    },
    {
      "cell_type": "code",
      "execution_count": null,
      "metadata": {
        "colab": {
          "base_uri": "https://localhost:8080/",
          "height": 598
        },
        "id": "EHhTLjNlKEcg",
        "outputId": "edef4f33-d1eb-443a-d500-568e41bcab12"
      },
      "outputs": [
        {
          "data": {
            "text/html": [
              "\n",
              "  <div id=\"df-28b7939d-ee2e-46e1-baf9-b3d364cb558d\">\n",
              "    <div class=\"colab-df-container\">\n",
              "      <div>\n",
              "<style scoped>\n",
              "    .dataframe tbody tr th:only-of-type {\n",
              "        vertical-align: middle;\n",
              "    }\n",
              "\n",
              "    .dataframe tbody tr th {\n",
              "        vertical-align: top;\n",
              "    }\n",
              "\n",
              "    .dataframe thead th {\n",
              "        text-align: right;\n",
              "    }\n",
              "</style>\n",
              "<table border=\"1\" class=\"dataframe\">\n",
              "  <thead>\n",
              "    <tr style=\"text-align: right;\">\n",
              "      <th></th>\n",
              "      <th>category</th>\n",
              "      <th>companyEvaluation _(in lakhs)</th>\n",
              "      <th>client_est_fund</th>\n",
              "      <th>client_equity(in %)</th>\n",
              "      <th>prerevenue</th>\n",
              "      <th>B2B_B2C</th>\n",
              "      <th>current_investors</th>\n",
              "      <th>present_competitor</th>\n",
              "      <th>yearly_revenue</th>\n",
              "      <th>gross_margin</th>\n",
              "      <th>...</th>\n",
              "      <th>Namita(in/out)</th>\n",
              "      <th>vineeta(in/out)</th>\n",
              "      <th>shark_est_invest</th>\n",
              "      <th>shark_equity</th>\n",
              "      <th>no_of_shark_team_during_proposal</th>\n",
              "      <th>no_of_shark_with_confirmed_deal</th>\n",
              "      <th>client_acceptance</th>\n",
              "      <th>Domain</th>\n",
              "      <th>market(%)</th>\n",
              "      <th>monthly_sales</th>\n",
              "    </tr>\n",
              "  </thead>\n",
              "  <tbody>\n",
              "    <tr>\n",
              "      <th>10</th>\n",
              "      <td>PUBLIC SERVICE</td>\n",
              "      <td>4000.0</td>\n",
              "      <td>100.0</td>\n",
              "      <td>2.5</td>\n",
              "      <td>no</td>\n",
              "      <td>B2C</td>\n",
              "      <td>0.0</td>\n",
              "      <td>3.0</td>\n",
              "      <td>72.0</td>\n",
              "      <td>30.00</td>\n",
              "      <td>...</td>\n",
              "      <td>0</td>\n",
              "      <td>0</td>\n",
              "      <td>0.0</td>\n",
              "      <td>0.0</td>\n",
              "      <td>0.0</td>\n",
              "      <td>0.0</td>\n",
              "      <td>ALL OUT(LESS SCALING FACTOR)</td>\n",
              "      <td>elcare(senior citizen seva)</td>\n",
              "      <td>0.50</td>\n",
              "      <td>6.0</td>\n",
              "    </tr>\n",
              "    <tr>\n",
              "      <th>11</th>\n",
              "      <td>FASHION</td>\n",
              "      <td>400.0</td>\n",
              "      <td>30.0</td>\n",
              "      <td>7.5</td>\n",
              "      <td>no</td>\n",
              "      <td>B2C</td>\n",
              "      <td>0.0</td>\n",
              "      <td>4.0</td>\n",
              "      <td>24.0</td>\n",
              "      <td>0.00</td>\n",
              "      <td>...</td>\n",
              "      <td>0</td>\n",
              "      <td>0</td>\n",
              "      <td>0.0</td>\n",
              "      <td>0.0</td>\n",
              "      <td>0.0</td>\n",
              "      <td>0.0</td>\n",
              "      <td>ALL OUT(LESS SCALING FACTOR)</td>\n",
              "      <td>twee(fashion)</td>\n",
              "      <td>0.20</td>\n",
              "      <td>2.0</td>\n",
              "    </tr>\n",
              "    <tr>\n",
              "      <th>14</th>\n",
              "      <td>FOOD</td>\n",
              "      <td>800.0</td>\n",
              "      <td>40.0</td>\n",
              "      <td>5.0</td>\n",
              "      <td>no</td>\n",
              "      <td>B2C</td>\n",
              "      <td>0.0</td>\n",
              "      <td>2.0</td>\n",
              "      <td>22.0</td>\n",
              "      <td>0.00</td>\n",
              "      <td>...</td>\n",
              "      <td>0</td>\n",
              "      <td>0</td>\n",
              "      <td>0.0</td>\n",
              "      <td>0.0</td>\n",
              "      <td>0.0</td>\n",
              "      <td>0.0</td>\n",
              "      <td>ALL OUT(LESS MARKET)</td>\n",
              "      <td>mavi(beverage company)</td>\n",
              "      <td>0.10</td>\n",
              "      <td>2.0</td>\n",
              "    </tr>\n",
              "    <tr>\n",
              "      <th>18</th>\n",
              "      <td>HOME SECURITY</td>\n",
              "      <td>2500.0</td>\n",
              "      <td>75.0</td>\n",
              "      <td>3.0</td>\n",
              "      <td>yes</td>\n",
              "      <td>B2B</td>\n",
              "      <td>0.0</td>\n",
              "      <td>4.0</td>\n",
              "      <td>180.0</td>\n",
              "      <td>0.00</td>\n",
              "      <td>...</td>\n",
              "      <td>0</td>\n",
              "      <td>0</td>\n",
              "      <td>0.0</td>\n",
              "      <td>0.0</td>\n",
              "      <td>0.0</td>\n",
              "      <td>0.0</td>\n",
              "      <td>ALL OUT(LESS MARKET)</td>\n",
              "      <td>Astrix(smart lock)</td>\n",
              "      <td>0.10</td>\n",
              "      <td>15.0</td>\n",
              "    </tr>\n",
              "    <tr>\n",
              "      <th>20</th>\n",
              "      <td>FLOWER</td>\n",
              "      <td>30000.0</td>\n",
              "      <td>300.0</td>\n",
              "      <td>1.0</td>\n",
              "      <td>no</td>\n",
              "      <td>B2C</td>\n",
              "      <td>0.0</td>\n",
              "      <td>3.0</td>\n",
              "      <td>900.0</td>\n",
              "      <td>29.00</td>\n",
              "      <td>...</td>\n",
              "      <td>0</td>\n",
              "      <td>0</td>\n",
              "      <td>0.0</td>\n",
              "      <td>0.0</td>\n",
              "      <td>0.0</td>\n",
              "      <td>0.0</td>\n",
              "      <td>ALL OUT(HIGH EVALUATION)</td>\n",
              "      <td>shades of spring(flowers)</td>\n",
              "      <td>0.30</td>\n",
              "      <td>75.0</td>\n",
              "    </tr>\n",
              "    <tr>\n",
              "      <th>23</th>\n",
              "      <td>OTT</td>\n",
              "      <td>2857.0</td>\n",
              "      <td>100.0</td>\n",
              "      <td>3.5</td>\n",
              "      <td>no</td>\n",
              "      <td>B2C</td>\n",
              "      <td>1.0</td>\n",
              "      <td>2.0</td>\n",
              "      <td>1044.0</td>\n",
              "      <td>0.00</td>\n",
              "      <td>...</td>\n",
              "      <td>0</td>\n",
              "      <td>0</td>\n",
              "      <td>0.0</td>\n",
              "      <td>0.0</td>\n",
              "      <td>0.0</td>\n",
              "      <td>0.0</td>\n",
              "      <td>ALL OUT(LESS MARKET)</td>\n",
              "      <td>PlayBox(allinOne_OTT)</td>\n",
              "      <td>0.40</td>\n",
              "      <td>87.0</td>\n",
              "    </tr>\n",
              "    <tr>\n",
              "      <th>29</th>\n",
              "      <td>FOOD</td>\n",
              "      <td>500.0</td>\n",
              "      <td>50.0</td>\n",
              "      <td>10.0</td>\n",
              "      <td>no</td>\n",
              "      <td>B2B</td>\n",
              "      <td>3.0</td>\n",
              "      <td>6.0</td>\n",
              "      <td>60.0</td>\n",
              "      <td>18.33</td>\n",
              "      <td>...</td>\n",
              "      <td>0</td>\n",
              "      <td>0</td>\n",
              "      <td>0.0</td>\n",
              "      <td>0.0</td>\n",
              "      <td>0.0</td>\n",
              "      <td>0.0</td>\n",
              "      <td>ALL OUT(LESS MARGIN)</td>\n",
              "      <td>jhaji pickle(food)</td>\n",
              "      <td>0.30</td>\n",
              "      <td>5.0</td>\n",
              "    </tr>\n",
              "    <tr>\n",
              "      <th>32</th>\n",
              "      <td>FOOD</td>\n",
              "      <td>1000.0</td>\n",
              "      <td>50.0</td>\n",
              "      <td>5.0</td>\n",
              "      <td>no</td>\n",
              "      <td>B2C</td>\n",
              "      <td>0.0</td>\n",
              "      <td>5.0</td>\n",
              "      <td>40.0</td>\n",
              "      <td>0.00</td>\n",
              "      <td>...</td>\n",
              "      <td>0</td>\n",
              "      <td>0</td>\n",
              "      <td>0.0</td>\n",
              "      <td>0.0</td>\n",
              "      <td>0.0</td>\n",
              "      <td>0.0</td>\n",
              "      <td>ALL OUT(LESS SCALING)</td>\n",
              "      <td>Hungry head (food)</td>\n",
              "      <td>0.80</td>\n",
              "      <td>6.0</td>\n",
              "    </tr>\n",
              "    <tr>\n",
              "      <th>35</th>\n",
              "      <td>CLOTH</td>\n",
              "      <td>10000.0</td>\n",
              "      <td>100.0</td>\n",
              "      <td>1.0</td>\n",
              "      <td>no</td>\n",
              "      <td>B2C ,B2B</td>\n",
              "      <td>0.0</td>\n",
              "      <td>2.0</td>\n",
              "      <td>107.0</td>\n",
              "      <td>0.00</td>\n",
              "      <td>...</td>\n",
              "      <td>0</td>\n",
              "      <td>0</td>\n",
              "      <td>0.0</td>\n",
              "      <td>0.0</td>\n",
              "      <td>0.0</td>\n",
              "      <td>0.0</td>\n",
              "      <td>ALL OUT(HIGH EVALUATION)</td>\n",
              "      <td>HECOLL clothing</td>\n",
              "      <td>0.35</td>\n",
              "      <td>9.0</td>\n",
              "    </tr>\n",
              "  </tbody>\n",
              "</table>\n",
              "<p>9 rows × 24 columns</p>\n",
              "</div>\n",
              "      <button class=\"colab-df-convert\" onclick=\"convertToInteractive('df-28b7939d-ee2e-46e1-baf9-b3d364cb558d')\"\n",
              "              title=\"Convert this dataframe to an interactive table.\"\n",
              "              style=\"display:none;\">\n",
              "        \n",
              "  <svg xmlns=\"http://www.w3.org/2000/svg\" height=\"24px\"viewBox=\"0 0 24 24\"\n",
              "       width=\"24px\">\n",
              "    <path d=\"M0 0h24v24H0V0z\" fill=\"none\"/>\n",
              "    <path d=\"M18.56 5.44l.94 2.06.94-2.06 2.06-.94-2.06-.94-.94-2.06-.94 2.06-2.06.94zm-11 1L8.5 8.5l.94-2.06 2.06-.94-2.06-.94L8.5 2.5l-.94 2.06-2.06.94zm10 10l.94 2.06.94-2.06 2.06-.94-2.06-.94-.94-2.06-.94 2.06-2.06.94z\"/><path d=\"M17.41 7.96l-1.37-1.37c-.4-.4-.92-.59-1.43-.59-.52 0-1.04.2-1.43.59L10.3 9.45l-7.72 7.72c-.78.78-.78 2.05 0 2.83L4 21.41c.39.39.9.59 1.41.59.51 0 1.02-.2 1.41-.59l7.78-7.78 2.81-2.81c.8-.78.8-2.07 0-2.86zM5.41 20L4 18.59l7.72-7.72 1.47 1.35L5.41 20z\"/>\n",
              "  </svg>\n",
              "      </button>\n",
              "      \n",
              "  <style>\n",
              "    .colab-df-container {\n",
              "      display:flex;\n",
              "      flex-wrap:wrap;\n",
              "      gap: 12px;\n",
              "    }\n",
              "\n",
              "    .colab-df-convert {\n",
              "      background-color: #E8F0FE;\n",
              "      border: none;\n",
              "      border-radius: 50%;\n",
              "      cursor: pointer;\n",
              "      display: none;\n",
              "      fill: #1967D2;\n",
              "      height: 32px;\n",
              "      padding: 0 0 0 0;\n",
              "      width: 32px;\n",
              "    }\n",
              "\n",
              "    .colab-df-convert:hover {\n",
              "      background-color: #E2EBFA;\n",
              "      box-shadow: 0px 1px 2px rgba(60, 64, 67, 0.3), 0px 1px 3px 1px rgba(60, 64, 67, 0.15);\n",
              "      fill: #174EA6;\n",
              "    }\n",
              "\n",
              "    [theme=dark] .colab-df-convert {\n",
              "      background-color: #3B4455;\n",
              "      fill: #D2E3FC;\n",
              "    }\n",
              "\n",
              "    [theme=dark] .colab-df-convert:hover {\n",
              "      background-color: #434B5C;\n",
              "      box-shadow: 0px 1px 3px 1px rgba(0, 0, 0, 0.15);\n",
              "      filter: drop-shadow(0px 1px 2px rgba(0, 0, 0, 0.3));\n",
              "      fill: #FFFFFF;\n",
              "    }\n",
              "  </style>\n",
              "\n",
              "      <script>\n",
              "        const buttonEl =\n",
              "          document.querySelector('#df-28b7939d-ee2e-46e1-baf9-b3d364cb558d button.colab-df-convert');\n",
              "        buttonEl.style.display =\n",
              "          google.colab.kernel.accessAllowed ? 'block' : 'none';\n",
              "\n",
              "        async function convertToInteractive(key) {\n",
              "          const element = document.querySelector('#df-28b7939d-ee2e-46e1-baf9-b3d364cb558d');\n",
              "          const dataTable =\n",
              "            await google.colab.kernel.invokeFunction('convertToInteractive',\n",
              "                                                     [key], {});\n",
              "          if (!dataTable) return;\n",
              "\n",
              "          const docLinkHtml = 'Like what you see? Visit the ' +\n",
              "            '<a target=\"_blank\" href=https://colab.research.google.com/notebooks/data_table.ipynb>data table notebook</a>'\n",
              "            + ' to learn more about interactive tables.';\n",
              "          element.innerHTML = '';\n",
              "          dataTable['output_type'] = 'display_data';\n",
              "          await google.colab.output.renderOutput(dataTable, element);\n",
              "          const docLink = document.createElement('div');\n",
              "          docLink.innerHTML = docLinkHtml;\n",
              "          element.appendChild(docLink);\n",
              "        }\n",
              "      </script>\n",
              "    </div>\n",
              "  </div>\n",
              "  "
            ],
            "text/plain": [
              "          category  companyEvaluation _(in lakhs)  client_est_fund  \\\n",
              "10  PUBLIC SERVICE                         4000.0            100.0   \n",
              "11         FASHION                          400.0             30.0   \n",
              "14            FOOD                          800.0             40.0   \n",
              "18   HOME SECURITY                         2500.0             75.0   \n",
              "20          FLOWER                        30000.0            300.0   \n",
              "23             OTT                         2857.0            100.0   \n",
              "29            FOOD                          500.0             50.0   \n",
              "32            FOOD                         1000.0             50.0   \n",
              "35           CLOTH                        10000.0            100.0   \n",
              "\n",
              "    client_equity(in %) prerevenue   B2B_B2C  current_investors  \\\n",
              "10                  2.5         no       B2C                0.0   \n",
              "11                  7.5         no       B2C                0.0   \n",
              "14                  5.0         no       B2C                0.0   \n",
              "18                  3.0        yes       B2B                0.0   \n",
              "20                  1.0         no       B2C                0.0   \n",
              "23                  3.5         no       B2C                1.0   \n",
              "29                 10.0         no       B2B                3.0   \n",
              "32                  5.0         no       B2C                0.0   \n",
              "35                  1.0         no  B2C ,B2B                0.0   \n",
              "\n",
              "    present_competitor  yearly_revenue  gross_margin  ...  Namita(in/out)  \\\n",
              "10                 3.0            72.0         30.00  ...               0   \n",
              "11                 4.0            24.0          0.00  ...               0   \n",
              "14                 2.0            22.0          0.00  ...               0   \n",
              "18                 4.0           180.0          0.00  ...               0   \n",
              "20                 3.0           900.0         29.00  ...               0   \n",
              "23                 2.0          1044.0          0.00  ...               0   \n",
              "29                 6.0            60.0         18.33  ...               0   \n",
              "32                 5.0            40.0          0.00  ...               0   \n",
              "35                 2.0           107.0          0.00  ...               0   \n",
              "\n",
              "    vineeta(in/out)  shark_est_invest  shark_equity  \\\n",
              "10                0               0.0           0.0   \n",
              "11                0               0.0           0.0   \n",
              "14                0               0.0           0.0   \n",
              "18                0               0.0           0.0   \n",
              "20                0               0.0           0.0   \n",
              "23                0               0.0           0.0   \n",
              "29                0               0.0           0.0   \n",
              "32                0               0.0           0.0   \n",
              "35                0               0.0           0.0   \n",
              "\n",
              "    no_of_shark_team_during_proposal  no_of_shark_with_confirmed_deal  \\\n",
              "10                               0.0                              0.0   \n",
              "11                               0.0                              0.0   \n",
              "14                               0.0                              0.0   \n",
              "18                               0.0                              0.0   \n",
              "20                               0.0                              0.0   \n",
              "23                               0.0                              0.0   \n",
              "29                               0.0                              0.0   \n",
              "32                               0.0                              0.0   \n",
              "35                               0.0                              0.0   \n",
              "\n",
              "               client_acceptance                       Domain  market(%)  \\\n",
              "10  ALL OUT(LESS SCALING FACTOR)  elcare(senior citizen seva)       0.50   \n",
              "11  ALL OUT(LESS SCALING FACTOR)                twee(fashion)       0.20   \n",
              "14          ALL OUT(LESS MARKET)       mavi(beverage company)       0.10   \n",
              "18          ALL OUT(LESS MARKET)           Astrix(smart lock)       0.10   \n",
              "20      ALL OUT(HIGH EVALUATION)    shades of spring(flowers)       0.30   \n",
              "23          ALL OUT(LESS MARKET)        PlayBox(allinOne_OTT)       0.40   \n",
              "29          ALL OUT(LESS MARGIN)           jhaji pickle(food)       0.30   \n",
              "32         ALL OUT(LESS SCALING)           Hungry head (food)       0.80   \n",
              "35      ALL OUT(HIGH EVALUATION)              HECOLL clothing       0.35   \n",
              "\n",
              "    monthly_sales  \n",
              "10            6.0  \n",
              "11            2.0  \n",
              "14            2.0  \n",
              "18           15.0  \n",
              "20           75.0  \n",
              "23           87.0  \n",
              "29            5.0  \n",
              "32            6.0  \n",
              "35            9.0  \n",
              "\n",
              "[9 rows x 24 columns]"
            ]
          },
          "execution_count": 80,
          "metadata": {},
          "output_type": "execute_result"
        }
      ],
      "source": [
        "df_out"
      ]
    },
    {
      "cell_type": "code",
      "execution_count": null,
      "metadata": {
        "colab": {
          "base_uri": "https://localhost:8080/"
        },
        "id": "T9IdCb628K9B",
        "outputId": "03e68a3c-21a7-4693-e5ee-330c106f7191"
      },
      "outputs": [
        {
          "data": {
            "text/plain": [
              "Index(['companyEvaluation _(in lakhs)', 'client_est_fund',\n",
              "       'client_equity(in %)', 'current_investors', 'present_competitor',\n",
              "       'yearly_revenue', 'gross_margin', 'shark_estimated_valuation',\n",
              "       'aman_gupta(in/out)', 'Anupam(in/out)', 'ashneer(in/out)',\n",
              "       'Namita(in/out)', 'vineeta(in/out)', 'shark_est_invest', 'shark_equity',\n",
              "       'no_of_shark_team_during_proposal', 'no_of_shark_with_confirmed_deal',\n",
              "       'client_acceptance', 'Domain', 'market(%)', 'monthly_sales'],\n",
              "      dtype='object')"
            ]
          },
          "execution_count": 27,
          "metadata": {},
          "output_type": "execute_result"
        }
      ],
      "source": [
        "tdf_without_categorical.columns"
      ]
    },
    {
      "cell_type": "markdown",
      "metadata": {
        "id": "SD8R9dImFh6H"
      },
      "source": [
        "Data Visualization"
      ]
    },
    {
      "cell_type": "code",
      "execution_count": null,
      "metadata": {
        "colab": {
          "base_uri": "https://localhost:8080/",
          "height": 391
        },
        "id": "9g5-TPhAMchy",
        "outputId": "2cc5e7a1-bf73-4891-d492-2c579a0a4b05"
      },
      "outputs": [
        {
          "data": {
            "text/plain": [
              "<matplotlib.axes._subplots.AxesSubplot at 0x7f6734ca9750>"
            ]
          },
          "execution_count": 28,
          "metadata": {},
          "output_type": "execute_result"
        },
        {
          "data": {
            "image/png": "[encoded data removed]",
            "text/plain": [
              "<Figure size 432x288 with 1 Axes>"
            ]
          },
          "metadata": {
            "needs_background": "light"
          },
          "output_type": "display_data"
        }
      ],
      "source": [
        "cr0=pd.crosstab(index=df_main['category'],columns=df_main['B2B_B2C'])\n",
        "cr0.plot.bar()"
      ]
    },
    {
      "cell_type": "code",
      "execution_count": null,
      "metadata": {
        "colab": {
          "base_uri": "https://localhost:8080/",
          "height": 293
        },
        "id": "G82HarqzE01p",
        "outputId": "2d440299-21eb-40e8-a1cf-9fc168d63826"
      },
      "outputs": [
        {
          "data": {
            "text/plain": [
              "<matplotlib.axes._subplots.AxesSubplot at 0x7f6734bb8e10>"
            ]
          },
          "execution_count": 29,
          "metadata": {},
          "output_type": "execute_result"
        },
        {
          "data": {
            "image/png": "[encoded data removed]",
            "text/plain": [
              "<Figure size 432x288 with 1 Axes>"
            ]
          },
          "metadata": {
            "needs_background": "light"
          },
          "output_type": "display_data"
        }
      ],
      "source": [
        "cr1=pd.crosstab(index=df_main['ashneer(in/out)'],columns=df_main['prerevenue'])\n",
        "cr1.plot.bar()"
      ]
    },
    {
      "cell_type": "code",
      "execution_count": null,
      "metadata": {
        "colab": {
          "base_uri": "https://localhost:8080/",
          "height": 293
        },
        "id": "O7ik6o4DH2yD",
        "outputId": "92c8bf18-4ca9-4caf-e611-9fd29f4d3938"
      },
      "outputs": [
        {
          "data": {
            "text/plain": [
              "<matplotlib.axes._subplots.AxesSubplot at 0x7f6734a61d90>"
            ]
          },
          "execution_count": 30,
          "metadata": {},
          "output_type": "execute_result"
        },
        {
          "data": {
            "image/png": "[encoded data removed]",
            "text/plain": [
              "<Figure size 432x288 with 1 Axes>"
            ]
          },
          "metadata": {
            "needs_background": "light"
          },
          "output_type": "display_data"
        }
      ],
      "source": [
        "cr4=pd.crosstab(index=df_main['Anupam(in/out)'],columns=df_main['prerevenue'])\n",
        "cr4.plot.bar()"
      ]
    },
    {
      "cell_type": "code",
      "execution_count": null,
      "metadata": {
        "colab": {
          "base_uri": "https://localhost:8080/",
          "height": 293
        },
        "id": "UDzHcpxLH8Kd",
        "outputId": "21d0d16c-01ad-4951-e4de-404703a09b28"
      },
      "outputs": [
        {
          "data": {
            "text/plain": [
              "<matplotlib.axes._subplots.AxesSubplot at 0x7f6734537e10>"
            ]
          },
          "execution_count": 31,
          "metadata": {},
          "output_type": "execute_result"
        },
        {
          "data": {
            "image/png": "[encoded data removed]",
            "text/plain": [
              "<Figure size 432x288 with 1 Axes>"
            ]
          },
          "metadata": {
            "needs_background": "light"
          },
          "output_type": "display_data"
        }
      ],
      "source": [
        "cr2=pd.crosstab(index=df_main['Namita(in/out)'],columns=df_main['prerevenue'])\n",
        "cr2.plot.bar()"
      ]
    },
    {
      "cell_type": "code",
      "execution_count": null,
      "metadata": {
        "colab": {
          "base_uri": "https://localhost:8080/",
          "height": 294
        },
        "id": "BzeYU36TJSEa",
        "outputId": "939e01f9-6e31-4120-c9e0-fc57394d88ab"
      },
      "outputs": [
        {
          "data": {
            "text/plain": [
              "<matplotlib.axes._subplots.AxesSubplot at 0x7f67344c7bd0>"
            ]
          },
          "execution_count": 32,
          "metadata": {},
          "output_type": "execute_result"
        },
        {
          "data": {
            "image/png": "[encoded data removed]",
            "text/plain": [
              "<Figure size 432x288 with 1 Axes>"
            ]
          },
          "metadata": {
            "needs_background": "light"
          },
          "output_type": "display_data"
        }
      ],
      "source": [
        "cr4=pd.crosstab(index=df_main['aman_gupta(in/out)'],columns=df_main['prerevenue'])\n",
        "cr4.plot.bar()"
      ]
    },
    {
      "cell_type": "code",
      "execution_count": null,
      "metadata": {
        "colab": {
          "base_uri": "https://localhost:8080/",
          "height": 293
        },
        "id": "Iuk2h8jBH13h",
        "outputId": "8a17a98b-bb5d-4046-e5f9-1978e668cff1"
      },
      "outputs": [
        {
          "data": {
            "text/plain": [
              "<matplotlib.axes._subplots.AxesSubplot at 0x7f6734434990>"
            ]
          },
          "execution_count": 33,
          "metadata": {},
          "output_type": "execute_result"
        },
        {
          "data": {
            "image/png": "[encoded data removed]",
            "text/plain": [
              "<Figure size 432x288 with 1 Axes>"
            ]
          },
          "metadata": {
            "needs_background": "light"
          },
          "output_type": "display_data"
        }
      ],
      "source": [
        "cr3=pd.crosstab(index=df_main['vineeta(in/out)'],columns=df_main['prerevenue'])\n",
        "cr3.plot.bar()"
      ]
    },
    {
      "cell_type": "code",
      "execution_count": null,
      "metadata": {
        "colab": {
          "base_uri": "https://localhost:8080/",
          "height": 391
        },
        "id": "97nBKvmrGucX",
        "outputId": "43eb34d9-2824-418b-b5d2-7a228fe49838"
      },
      "outputs": [
        {
          "data": {
            "text/plain": [
              "<matplotlib.axes._subplots.AxesSubplot at 0x7f67343ba950>"
            ]
          },
          "execution_count": 34,
          "metadata": {},
          "output_type": "execute_result"
        },
        {
          "data": {
            "image/png": "[encoded data removed]",
            "text/plain": [
              "<Figure size 432x288 with 1 Axes>"
            ]
          },
          "metadata": {
            "needs_background": "light"
          },
          "output_type": "display_data"
        }
      ],
      "source": [
        "cr1=pd.crosstab(index=df_main['category'],columns=df_main['prerevenue'])\n",
        "cr1.plot.bar()"
      ]
    },
    {
      "cell_type": "code",
      "execution_count": null,
      "metadata": {
        "id": "N-MG4U7p6hrS"
      },
      "outputs": [],
      "source": [
        "categorical_one_hot_code = pd.get_dummies(df_main[['category', 'B2B_B2C','prerevenue']])"
      ]
    },
    {
      "cell_type": "code",
      "execution_count": null,
      "metadata": {
        "colab": {
          "base_uri": "https://localhost:8080/"
        },
        "id": "HWZ5iplx6-Dg",
        "outputId": "9dd0848e-34b0-46a0-ccf6-872760e54735"
      },
      "outputs": [
        {
          "data": {
            "text/plain": [
              "Index(['category_APP', 'category_BEVERAGE', 'category_BOOK', 'category_CLOTH',\n",
              "       'category_COSMETIC', 'category_FAMOUS FOOD', 'category_FASHION',\n",
              "       'category_FLOWER', 'category_FOOD', 'category_FOOTWEAR',\n",
              "       'category_HEALTHCARE', 'category_HEALTHCARE DEVICE',\n",
              "       'category_HOME SECURITY', 'category_KITCHEN STORAGE',\n",
              "       'category_LOGISTIC', 'category_OTT', 'category_PUBLIC SERVICE',\n",
              "       'category_REPAIR', 'category_SANITATION', 'category_SPORT OTT',\n",
              "       'category_TECH MID STARTUP', 'category_TECH STARTUP',\n",
              "       'category_UNIQUE IDEA', 'B2B_B2C_B2B', 'B2B_B2C_B2C',\n",
              "       'B2B_B2C_B2C ,B2B', 'B2B_B2C_prerevenue', 'prerevenue_no',\n",
              "       'prerevenue_yes'],\n",
              "      dtype='object')"
            ]
          },
          "execution_count": 36,
          "metadata": {},
          "output_type": "execute_result"
        }
      ],
      "source": [
        "categorical_one_hot_code.columns"
      ]
    },
    {
      "cell_type": "code",
      "execution_count": null,
      "metadata": {
        "id": "P92USrfukCdv"
      },
      "outputs": [],
      "source": [
        "df_ctg = pd.concat([categorical_one_hot_code,df_without_categorical],axis=1)"
      ]
    },
    {
      "cell_type": "code",
      "execution_count": null,
      "metadata": {
        "colab": {
          "base_uri": "https://localhost:8080/"
        },
        "id": "UueBj0gk840H",
        "outputId": "1c690608-18fa-4d8a-c502-d7853a2a20a9"
      },
      "outputs": [
        {
          "data": {
            "text/plain": [
              "Index(['category_APP', 'category_BEVERAGE', 'category_BOOK', 'category_CLOTH',\n",
              "       'category_COSMETIC', 'category_FAMOUS FOOD', 'category_FASHION',\n",
              "       'category_FLOWER', 'category_FOOD', 'category_FOOTWEAR',\n",
              "       'category_HEALTHCARE', 'category_HEALTHCARE DEVICE',\n",
              "       'category_HOME SECURITY', 'category_KITCHEN STORAGE',\n",
              "       'category_LOGISTIC', 'category_OTT', 'category_PUBLIC SERVICE',\n",
              "       'category_REPAIR', 'category_SANITATION', 'category_SPORT OTT',\n",
              "       'category_TECH MID STARTUP', 'category_TECH STARTUP',\n",
              "       'category_UNIQUE IDEA', 'B2B_B2C_B2B', 'B2B_B2C_B2C',\n",
              "       'B2B_B2C_B2C ,B2B', 'B2B_B2C_prerevenue', 'prerevenue_no',\n",
              "       'prerevenue_yes', 'companyEvaluation _(in lakhs)', 'client_est_fund',\n",
              "       'client_equity(in %)', 'current_investors', 'present_competitor',\n",
              "       'yearly_revenue', 'gross_margin', 'shark_estimated_valuation',\n",
              "       'aman_gupta(in/out)', 'Anupam(in/out)', 'ashneer(in/out)',\n",
              "       'Namita(in/out)', 'vineeta(in/out)', 'shark_est_invest', 'shark_equity',\n",
              "       'no_of_shark_team_during_proposal', 'no_of_shark_with_confirmed_deal',\n",
              "       'client_acceptance', 'Domain', 'market(%)', 'monthly_sales'],\n",
              "      dtype='object')"
            ]
          },
          "execution_count": 38,
          "metadata": {},
          "output_type": "execute_result"
        }
      ],
      "source": [
        "df_ctg.columns"
      ]
    },
    {
      "cell_type": "code",
      "execution_count": null,
      "metadata": {
        "colab": {
          "base_uri": "https://localhost:8080/"
        },
        "id": "WdB3NtGIL6J6",
        "outputId": "e15adf09-c1d0-4d5e-8baa-783eaf91f48c"
      },
      "outputs": [
        {
          "data": {
            "text/plain": [
              "0    103\n",
              "1     34\n",
              "Name: Anupam(in/out), dtype: int64"
            ]
          },
          "execution_count": 39,
          "metadata": {},
          "output_type": "execute_result"
        }
      ],
      "source": [
        "df_ctg['Anupam(in/out)'].value_counts()"
      ]
    },
    {
      "cell_type": "code",
      "execution_count": null,
      "metadata": {
        "id": "WZFbG6AH-_4j"
      },
      "outputs": [],
      "source": [
        "from sklearn.tree import DecisionTreeClassifier"
      ]
    },
    {
      "cell_type": "code",
      "execution_count": null,
      "metadata": {
        "id": "S2eMUxIHojZL"
      },
      "outputs": [],
      "source": [
        "from sklearn.metrics import mean_squared_error,mean_absolute_error"
      ]
    },
    {
      "cell_type": "code",
      "execution_count": null,
      "metadata": {
        "id": "4yP818K1_LMf"
      },
      "outputs": [],
      "source": [
        "ctg = DecisionTreeClassifier()"
      ]
    },
    {
      "cell_type": "code",
      "execution_count": null,
      "metadata": {
        "id": "1OhTcVXL_XRx"
      },
      "outputs": [],
      "source": [
        "dt_x = df_ctg[['category_APP', 'category_BEVERAGE', 'category_BOOK', 'category_CLOTH',\n",
        "       'category_COSMETIC', 'category_FAMOUS FOOD', 'category_FASHION',\n",
        "       'category_FLOWER', 'category_FOOD', 'category_FOOTWEAR',\n",
        "       'category_HEALTHCARE', 'category_HEALTHCARE DEVICE',\n",
        "       'category_HOME SECURITY', 'category_KITCHEN STORAGE',\n",
        "       'category_LOGISTIC', 'category_OTT', 'category_PUBLIC SERVICE',\n",
        "       'category_REPAIR', 'category_SANITATION', 'category_SPORT OTT',\n",
        "       'category_TECH MID STARTUP', 'category_TECH STARTUP',\n",
        "       'category_UNIQUE IDEA', 'B2B_B2C_B2B', 'B2B_B2C_B2C',\n",
        "       'B2B_B2C_B2C ,B2B', 'B2B_B2C_prerevenue', 'prerevenue_no',\n",
        "       'prerevenue_yes', 'companyEvaluation _(in lakhs)','client_est_fund',\n",
        "       'client_equity(in %)', 'current_investors', 'present_competitor',\n",
        "       'yearly_revenue', 'gross_margin']]"
      ]
    },
    {
      "cell_type": "code",
      "execution_count": null,
      "metadata": {
        "colab": {
          "base_uri": "https://localhost:8080/"
        },
        "id": "BL7NHa81_srQ",
        "outputId": "94a97d7e-65f8-461d-be48-04abbb66c247"
      },
      "outputs": [
        {
          "data": {
            "text/plain": [
              "Index(['category_APP', 'category_BEVERAGE', 'category_BOOK', 'category_CLOTH',\n",
              "       'category_COSMETIC', 'category_FAMOUS FOOD', 'category_FASHION',\n",
              "       'category_FLOWER', 'category_FOOD', 'category_FOOTWEAR',\n",
              "       'category_HEALTHCARE', 'category_HEALTHCARE DEVICE',\n",
              "       'category_HOME SECURITY', 'category_KITCHEN STORAGE',\n",
              "       'category_LOGISTIC', 'category_OTT', 'category_PUBLIC SERVICE',\n",
              "       'category_REPAIR', 'category_SANITATION', 'category_SPORT OTT',\n",
              "       'category_TECH MID STARTUP', 'category_TECH STARTUP',\n",
              "       'category_UNIQUE IDEA', 'B2B_B2C_B2B', 'B2B_B2C_B2C',\n",
              "       'B2B_B2C_B2C ,B2B', 'B2B_B2C_prerevenue', 'prerevenue_no',\n",
              "       'prerevenue_yes', 'companyEvaluation _(in lakhs)', 'client_est_fund',\n",
              "       'client_equity(in %)', 'current_investors', 'present_competitor',\n",
              "       'yearly_revenue', 'gross_margin'],\n",
              "      dtype='object')"
            ]
          },
          "execution_count": 44,
          "metadata": {},
          "output_type": "execute_result"
        }
      ],
      "source": [
        "dt_x.columns"
      ]
    },
    {
      "cell_type": "code",
      "execution_count": null,
      "metadata": {
        "colab": {
          "base_uri": "https://localhost:8080/"
        },
        "id": "tEZKkCaFFZVO",
        "outputId": "647e576d-5ef9-4fba-da28-b125bc94ba48"
      },
      "outputs": [
        {
          "data": {
            "text/plain": [
              "(137, 36)"
            ]
          },
          "execution_count": 45,
          "metadata": {},
          "output_type": "execute_result"
        }
      ],
      "source": [
        "dt_x.shape"
      ]
    },
    {
      "cell_type": "code",
      "execution_count": null,
      "metadata": {
        "colab": {
          "base_uri": "https://localhost:8080/"
        },
        "id": "yv-IR1R4EkHf",
        "outputId": "4606d237-7125-4dad-bf7f-4ada786feff1"
      },
      "outputs": [
        {
          "name": "stdout",
          "output_type": "stream",
          "text": [
            "\n",
            " Training Data Size  40\n",
            "\n",
            "               precision    recall  f1-score   support\n",
            "\n",
            "           1       0.75      0.69      0.72        74\n",
            "           0       0.21      0.26      0.23        23\n",
            "\n",
            "    accuracy                           0.59        97\n",
            "   macro avg       0.48      0.48      0.47        97\n",
            "weighted avg       0.62      0.59      0.60        97\n",
            " \n",
            "\n",
            "\n",
            " Training Data Size  30\n",
            "\n",
            "               precision    recall  f1-score   support\n",
            "\n",
            "           1       0.74      0.77      0.76        79\n",
            "           0       0.28      0.25      0.26        28\n",
            "\n",
            "    accuracy                           0.64       107\n",
            "   macro avg       0.51      0.51      0.51       107\n",
            "weighted avg       0.62      0.64      0.63       107\n",
            " \n",
            "\n",
            "\n",
            " Training Data Size  45\n",
            "\n",
            "               precision    recall  f1-score   support\n",
            "\n",
            "           1       0.73      0.52      0.61        71\n",
            "           0       0.17      0.33      0.23        21\n",
            "\n",
            "    accuracy                           0.48        92\n",
            "   macro avg       0.45      0.43      0.42        92\n",
            "weighted avg       0.60      0.48      0.52        92\n",
            " \n",
            "\n",
            "\n",
            " Training Data Size  65\n",
            "\n",
            "               precision    recall  f1-score   support\n",
            "\n",
            "           1       0.81      0.68      0.74        57\n",
            "           0       0.25      0.40      0.31        15\n",
            "\n",
            "    accuracy                           0.62        72\n",
            "   macro avg       0.53      0.54      0.53        72\n",
            "weighted avg       0.70      0.62      0.65        72\n",
            " \n",
            "\n",
            "\n",
            " Training Data Size  66\n",
            "\n",
            "               precision    recall  f1-score   support\n",
            "\n",
            "           1       0.81      0.70      0.75        56\n",
            "           0       0.26      0.40      0.32        15\n",
            "\n",
            "    accuracy                           0.63        71\n",
            "   macro avg       0.54      0.55      0.53        71\n",
            "weighted avg       0.70      0.63      0.66        71\n",
            " \n",
            "\n",
            "\n",
            " Training Data Size  90\n",
            "\n",
            "               precision    recall  f1-score   support\n",
            "\n",
            "           1       0.88      0.72      0.79        40\n",
            "           0       0.21      0.43      0.29         7\n",
            "\n",
            "    accuracy                           0.68        47\n",
            "   macro avg       0.55      0.58      0.54        47\n",
            "weighted avg       0.78      0.68      0.72        47\n",
            " \n",
            "\n",
            "\n",
            " Training Data Size  92\n",
            "\n",
            "               precision    recall  f1-score   support\n",
            "\n",
            "           1       0.87      0.69      0.77        39\n",
            "           0       0.14      0.33      0.20         6\n",
            "\n",
            "    accuracy                           0.64        45\n",
            "   macro avg       0.51      0.51      0.49        45\n",
            "weighted avg       0.77      0.64      0.70        45\n",
            " \n",
            "\n",
            "\n",
            " Training Data Size  94\n",
            "\n",
            "               precision    recall  f1-score   support\n",
            "\n",
            "           1       0.93      0.69      0.79        39\n",
            "           0       0.14      0.50      0.22         4\n",
            "\n",
            "    accuracy                           0.67        43\n",
            "   macro avg       0.54      0.60      0.51        43\n",
            "weighted avg       0.86      0.67      0.74        43\n",
            " \n",
            "\n",
            "\n",
            " Training Data Size  96\n",
            "\n",
            "               precision    recall  f1-score   support\n",
            "\n",
            "           1       0.92      0.62      0.74        37\n",
            "           0       0.12      0.50      0.20         4\n",
            "\n",
            "    accuracy                           0.61        41\n",
            "   macro avg       0.52      0.56      0.47        41\n",
            "weighted avg       0.84      0.61      0.69        41\n",
            " \n",
            "\n",
            "\n",
            " Training Data Size  98\n",
            "\n",
            "               precision    recall  f1-score   support\n",
            "\n",
            "           1       0.95      0.60      0.74        35\n",
            "           0       0.18      0.75      0.29         4\n",
            "\n",
            "    accuracy                           0.62        39\n",
            "   macro avg       0.57      0.68      0.51        39\n",
            "weighted avg       0.87      0.62      0.69        39\n",
            " \n",
            "\n",
            "\n",
            " Training Data Size  115\n",
            "\n",
            "               precision    recall  f1-score   support\n",
            "\n",
            "           1       0.93      0.70      0.80        20\n",
            "           0       0.14      0.50      0.22         2\n",
            "\n",
            "    accuracy                           0.68        22\n",
            "   macro avg       0.54      0.60      0.51        22\n",
            "weighted avg       0.86      0.68      0.75        22\n",
            " \n",
            "\n",
            "\n",
            " Training Data Size  120\n",
            "\n",
            "               precision    recall  f1-score   support\n",
            "\n",
            "           1       0.92      0.75      0.83        16\n",
            "           0       0.00      0.00      0.00         1\n",
            "\n",
            "    accuracy                           0.71        17\n",
            "   macro avg       0.46      0.38      0.41        17\n",
            "weighted avg       0.87      0.71      0.78        17\n",
            " \n",
            "\n"
          ]
        }
      ],
      "source": [
        "dt_y = df_ctg[['Anupam(in/out)']]\n",
        "l = [40,30,45,65,66,90,92,94,96,98,115,120]\n",
        "for i in l:\n",
        "  ctg = DecisionTreeClassifier()\n",
        "  i_tr = dt_x.iloc[:i]\n",
        "  o_tr = dt_y.iloc[:i]\n",
        "  ctg.fit(i_tr,o_tr)\n",
        "  i_ts = dt_x.iloc[i:]\n",
        "  o_ts = dt_y.iloc[i:]\n",
        "  ct_pred = ctg.predict(i_ts)\n",
        "  print(\"\\n Training Data Size \",i)\n",
        "  print(\"\\n\",classification_report(o_ts,ct_pred, target_names=['1','0']),\"\\n\")"
      ]
    },
    {
      "cell_type": "code",
      "execution_count": null,
      "metadata": {
        "colab": {
          "base_uri": "https://localhost:8080/"
        },
        "id": "OySicgnZIbRP",
        "outputId": "2e7b79c7-79fa-4074-e87d-61cee27de4de"
      },
      "outputs": [
        {
          "name": "stdout",
          "output_type": "stream",
          "text": [
            "\n",
            " Training Data Size  40\n",
            "\n",
            "               precision    recall  f1-score   support\n",
            "\n",
            "           1       0.77      0.33      0.46        61\n",
            "           0       0.42      0.83      0.56        36\n",
            "\n",
            "    accuracy                           0.52        97\n",
            "   macro avg       0.60      0.58      0.51        97\n",
            "weighted avg       0.64      0.52      0.50        97\n",
            " \n",
            "\n",
            "\n",
            " Training Data Size  30\n",
            "\n",
            "               precision    recall  f1-score   support\n",
            "\n",
            "           1       0.77      0.34      0.48        70\n",
            "           0       0.39      0.81      0.53        37\n",
            "\n",
            "    accuracy                           0.50       107\n",
            "   macro avg       0.58      0.58      0.50       107\n",
            "weighted avg       0.64      0.50      0.49       107\n",
            " \n",
            "\n",
            "\n",
            " Training Data Size  45\n",
            "\n",
            "               precision    recall  f1-score   support\n",
            "\n",
            "           1       0.71      0.43      0.54        58\n",
            "           0       0.42      0.71      0.53        34\n",
            "\n",
            "    accuracy                           0.53        92\n",
            "   macro avg       0.57      0.57      0.53        92\n",
            "weighted avg       0.61      0.53      0.53        92\n",
            " \n",
            "\n",
            "\n",
            " Training Data Size  65\n",
            "\n",
            "               precision    recall  f1-score   support\n",
            "\n",
            "           1       0.68      0.45      0.54        47\n",
            "           0       0.37      0.60      0.45        25\n",
            "\n",
            "    accuracy                           0.50        72\n",
            "   macro avg       0.52      0.52      0.50        72\n",
            "weighted avg       0.57      0.50      0.51        72\n",
            " \n",
            "\n",
            "\n",
            " Training Data Size  66\n",
            "\n",
            "               precision    recall  f1-score   support\n",
            "\n",
            "           1       0.73      0.68      0.70        47\n",
            "           0       0.44      0.50      0.47        24\n",
            "\n",
            "    accuracy                           0.62        71\n",
            "   macro avg       0.59      0.59      0.59        71\n",
            "weighted avg       0.63      0.62      0.62        71\n",
            " \n",
            "\n",
            "\n",
            " Training Data Size  90\n",
            "\n",
            "               precision    recall  f1-score   support\n",
            "\n",
            "           1       0.72      0.58      0.64        31\n",
            "           0       0.41      0.56      0.47        16\n",
            "\n",
            "    accuracy                           0.57        47\n",
            "   macro avg       0.56      0.57      0.56        47\n",
            "weighted avg       0.61      0.57      0.59        47\n",
            " \n",
            "\n",
            "\n",
            " Training Data Size  92\n",
            "\n",
            "               precision    recall  f1-score   support\n",
            "\n",
            "           1       0.65      0.59      0.62        29\n",
            "           0       0.37      0.44      0.40        16\n",
            "\n",
            "    accuracy                           0.53        45\n",
            "   macro avg       0.51      0.51      0.51        45\n",
            "weighted avg       0.55      0.53      0.54        45\n",
            " \n",
            "\n",
            "\n",
            " Training Data Size  94\n",
            "\n",
            "               precision    recall  f1-score   support\n",
            "\n",
            "           1       0.58      0.67      0.62        27\n",
            "           0       0.25      0.19      0.21        16\n",
            "\n",
            "    accuracy                           0.49        43\n",
            "   macro avg       0.42      0.43      0.42        43\n",
            "weighted avg       0.46      0.49      0.47        43\n",
            " \n",
            "\n",
            "\n",
            " Training Data Size  96\n",
            "\n",
            "               precision    recall  f1-score   support\n",
            "\n",
            "           1       0.52      0.52      0.52        25\n",
            "           0       0.25      0.25      0.25        16\n",
            "\n",
            "    accuracy                           0.41        41\n",
            "   macro avg       0.39      0.39      0.39        41\n",
            "weighted avg       0.41      0.41      0.41        41\n",
            " \n",
            "\n",
            "\n",
            " Training Data Size  98\n",
            "\n",
            "               precision    recall  f1-score   support\n",
            "\n",
            "           1       0.55      0.48      0.51        23\n",
            "           0       0.37      0.44      0.40        16\n",
            "\n",
            "    accuracy                           0.46        39\n",
            "   macro avg       0.46      0.46      0.46        39\n",
            "weighted avg       0.48      0.46      0.47        39\n",
            " \n",
            "\n",
            "\n",
            " Training Data Size  115\n",
            "\n",
            "               precision    recall  f1-score   support\n",
            "\n",
            "           1       0.56      0.71      0.63        14\n",
            "           0       0.00      0.00      0.00         8\n",
            "\n",
            "    accuracy                           0.45        22\n",
            "   macro avg       0.28      0.36      0.31        22\n",
            "weighted avg       0.35      0.45      0.40        22\n",
            " \n",
            "\n",
            "\n",
            " Training Data Size  120\n",
            "\n",
            "               precision    recall  f1-score   support\n",
            "\n",
            "           1       0.57      0.80      0.67        10\n",
            "           0       0.33      0.14      0.20         7\n",
            "\n",
            "    accuracy                           0.53        17\n",
            "   macro avg       0.45      0.47      0.43        17\n",
            "weighted avg       0.47      0.53      0.47        17\n",
            " \n",
            "\n"
          ]
        }
      ],
      "source": [
        "dt_y = df_ctg[['vineeta(in/out)']]\n",
        "\n",
        "l = [40,30,45,65,66,90,92,94,96,98,115,120]\n",
        "for i in l:\n",
        "  ctg = DecisionTreeClassifier()\n",
        "  i_tr = dt_x.iloc[:i]\n",
        "  o_tr = dt_y.iloc[:i]\n",
        "  ctg.fit(i_tr,o_tr)\n",
        "  i_ts = dt_x.iloc[i:]\n",
        "  o_ts = dt_y.iloc[i:]\n",
        "  ct_pred = ctg.predict(i_ts)\n",
        "  print(\"\\n Training Data Size \",i)\n",
        "  print(\"\\n\",classification_report(o_ts,ct_pred, target_names=['1','0']),\"\\n\")"
      ]
    },
    {
      "cell_type": "code",
      "execution_count": null,
      "metadata": {
        "colab": {
          "base_uri": "https://localhost:8080/"
        },
        "id": "eAC73iNANkc1",
        "outputId": "25b1c52a-4ed2-40ca-bf74-0e169169dba3"
      },
      "outputs": [
        {
          "name": "stdout",
          "output_type": "stream",
          "text": [
            "\n",
            " Training Data Size  80\n",
            "\n",
            "               precision    recall  f1-score   support\n",
            "\n",
            "           1       0.62      0.94      0.75        35\n",
            "           0       0.50      0.09      0.15        22\n",
            "\n",
            "    accuracy                           0.61        57\n",
            "   macro avg       0.56      0.52      0.45        57\n",
            "weighted avg       0.58      0.61      0.52        57\n",
            " \n",
            "\n",
            "\n",
            " Training Data Size  85\n",
            "\n",
            "               precision    recall  f1-score   support\n",
            "\n",
            "           1       0.65      0.79      0.71        33\n",
            "           0       0.42      0.26      0.32        19\n",
            "\n",
            "    accuracy                           0.60        52\n",
            "   macro avg       0.53      0.53      0.52        52\n",
            "weighted avg       0.56      0.60      0.57        52\n",
            " \n",
            "\n",
            "\n",
            " Training Data Size  89\n",
            "\n",
            "               precision    recall  f1-score   support\n",
            "\n",
            "           1       0.50      0.50      0.50        30\n",
            "           0       0.17      0.17      0.17        18\n",
            "\n",
            "    accuracy                           0.38        48\n",
            "   macro avg       0.33      0.33      0.33        48\n",
            "weighted avg       0.38      0.38      0.38        48\n",
            " \n",
            "\n",
            "\n",
            " Training Data Size  90\n",
            "\n",
            "               precision    recall  f1-score   support\n",
            "\n",
            "           1       0.76      0.83      0.79        30\n",
            "           0       0.64      0.53      0.58        17\n",
            "\n",
            "    accuracy                           0.72        47\n",
            "   macro avg       0.70      0.68      0.69        47\n",
            "weighted avg       0.72      0.72      0.72        47\n",
            " \n",
            "\n",
            "\n",
            " Training Data Size  95\n",
            "\n",
            "               precision    recall  f1-score   support\n",
            "\n",
            "           1       0.59      0.73      0.66        26\n",
            "           0       0.30      0.19      0.23        16\n",
            "\n",
            "    accuracy                           0.52        42\n",
            "   macro avg       0.45      0.46      0.44        42\n",
            "weighted avg       0.48      0.52      0.49        42\n",
            " \n",
            "\n",
            "\n",
            " Training Data Size  100\n",
            "\n",
            "               precision    recall  f1-score   support\n",
            "\n",
            "           1       0.73      0.67      0.70        24\n",
            "           0       0.47      0.54      0.50        13\n",
            "\n",
            "    accuracy                           0.62        37\n",
            "   macro avg       0.60      0.60      0.60        37\n",
            "weighted avg       0.64      0.62      0.63        37\n",
            " \n",
            "\n"
          ]
        }
      ],
      "source": [
        "dt_y = df_ctg[['ashneer(in/out)']]\n",
        "\n",
        "l = [80,85,89,90,95,100]\n",
        "for i in l:\n",
        "  ctg = DecisionTreeClassifier()\n",
        "  i_tr = dt_x.iloc[:i]\n",
        "  o_tr = dt_y.iloc[:i]\n",
        "  ctg.fit(i_tr,o_tr)\n",
        "  i_ts = dt_x.iloc[i:]\n",
        "  o_ts = dt_y.iloc[i:]\n",
        "  ct_pred = ctg.predict(i_ts)\n",
        "  print(\"\\n Training Data Size \",i)\n",
        "  print(\"\\n\",classification_report(o_ts,ct_pred, target_names=['1','0']),\"\\n\")"
      ]
    },
    {
      "cell_type": "code",
      "execution_count": null,
      "metadata": {
        "colab": {
          "base_uri": "https://localhost:8080/"
        },
        "id": "YvWt1hziIThh",
        "outputId": "bfdce794-ad6c-4da4-c353-b7fd7c386a8d"
      },
      "outputs": [
        {
          "name": "stdout",
          "output_type": "stream",
          "text": [
            "\n",
            " Training Data Size  80\n",
            "\n",
            "               precision    recall  f1-score   support\n",
            "\n",
            "           1       0.80      0.81      0.80        43\n",
            "           0       0.38      0.36      0.37        14\n",
            "\n",
            "    accuracy                           0.70        57\n",
            "   macro avg       0.59      0.59      0.59        57\n",
            "weighted avg       0.69      0.70      0.70        57\n",
            " \n",
            "\n",
            "\n",
            " Training Data Size  85\n",
            "\n",
            "               precision    recall  f1-score   support\n",
            "\n",
            "           1       0.78      0.79      0.78        39\n",
            "           0       0.33      0.31      0.32        13\n",
            "\n",
            "    accuracy                           0.67        52\n",
            "   macro avg       0.55      0.55      0.55        52\n",
            "weighted avg       0.66      0.67      0.67        52\n",
            " \n",
            "\n",
            "\n",
            " Training Data Size  89\n",
            "\n",
            "               precision    recall  f1-score   support\n",
            "\n",
            "           1       0.77      0.92      0.84        36\n",
            "           0       0.40      0.17      0.24        12\n",
            "\n",
            "    accuracy                           0.73        48\n",
            "   macro avg       0.58      0.54      0.54        48\n",
            "weighted avg       0.68      0.73      0.69        48\n",
            " \n",
            "\n",
            "\n",
            " Training Data Size  90\n",
            "\n",
            "               precision    recall  f1-score   support\n",
            "\n",
            "           1       0.76      0.91      0.83        35\n",
            "           0       0.40      0.17      0.24        12\n",
            "\n",
            "    accuracy                           0.72        47\n",
            "   macro avg       0.58      0.54      0.53        47\n",
            "weighted avg       0.67      0.72      0.68        47\n",
            " \n",
            "\n",
            "\n",
            " Training Data Size  95\n",
            "\n",
            "               precision    recall  f1-score   support\n",
            "\n",
            "           1       0.71      0.81      0.76        31\n",
            "           0       0.14      0.09      0.11        11\n",
            "\n",
            "    accuracy                           0.62        42\n",
            "   macro avg       0.43      0.45      0.43        42\n",
            "weighted avg       0.56      0.62      0.59        42\n",
            " \n",
            "\n",
            "\n",
            " Training Data Size  100\n",
            "\n",
            "               precision    recall  f1-score   support\n",
            "\n",
            "           1       0.80      0.71      0.75        28\n",
            "           0       0.33      0.44      0.38         9\n",
            "\n",
            "    accuracy                           0.65        37\n",
            "   macro avg       0.57      0.58      0.57        37\n",
            "weighted avg       0.69      0.65      0.66        37\n",
            " \n",
            "\n"
          ]
        }
      ],
      "source": [
        "dt_y = df_ctg[['aman_gupta(in/out)']]\n",
        "\n",
        "l = [80,85,89,90,95,100]\n",
        "for i in l:\n",
        "  ctg = DecisionTreeClassifier()\n",
        "  i_tr = dt_x.iloc[:i]\n",
        "  o_tr = dt_y.iloc[:i]\n",
        "  ctg.fit(i_tr,o_tr)\n",
        "  i_ts = dt_x.iloc[i:]\n",
        "  o_ts = dt_y.iloc[i:]\n",
        "  ct_pred = ctg.predict(i_ts)\n",
        "  print(\"\\n Training Data Size \",i)\n",
        "  print(\"\\n\",classification_report(o_ts,ct_pred, target_names=['1','0']),\"\\n\")"
      ]
    },
    {
      "cell_type": "code",
      "execution_count": null,
      "metadata": {
        "id": "ZufLG2v4MssR"
      },
      "outputs": [],
      "source": [
        "dt_y = df_ctg[['Namita(in/out)']]\n",
        "\n",
        "l = [80,85,89,90,95,100]\n",
        "for i in l:\n",
        "  ctg = DecisionTreeClassifier()\n",
        "  i_tr = dt_x.iloc[:i]\n",
        "  o_tr = dt_y.iloc[:i]\n",
        "  ctg.fit(i_tr,o_tr)\n",
        "  i_ts = dt_x.iloc[i:]\n",
        "  o_ts = dt_y.iloc[i:]\n",
        "  ct_pred = ctg.predict(i_ts)\n",
        "  print(\"\\n Training Data Size \",i)\n",
        "  print(\"\\n\",classification_report(o_ts,ct_pred, target_names=['1','0']),\"\\n\")"
      ]
    },
    {
      "cell_type": "code",
      "execution_count": null,
      "metadata": {
        "colab": {
          "base_uri": "https://localhost:8080/"
        },
        "id": "nlhg0ELnFRLu",
        "outputId": "18ff2d90-050c-4f5e-a2e9-43f7663ba47a"
      },
      "outputs": [
        {
          "data": {
            "text/plain": [
              "DecisionTreeClassifier()"
            ]
          },
          "execution_count": 51,
          "metadata": {},
          "output_type": "execute_result"
        }
      ],
      "source": [
        "ctg.fit(i_tr,o_tr)"
      ]
    },
    {
      "cell_type": "code",
      "execution_count": null,
      "metadata": {
        "id": "CdixAebeGUos"
      },
      "outputs": [],
      "source": [
        "i_ts = dt_x.iloc[60:]\n",
        "o_ts = dt_y.iloc[60:]"
      ]
    },
    {
      "cell_type": "code",
      "execution_count": null,
      "metadata": {
        "id": "z6fUMFVcEy4E"
      },
      "outputs": [],
      "source": [
        "ct_pred = ctg.predict(i_ts)"
      ]
    },
    {
      "cell_type": "code",
      "execution_count": null,
      "metadata": {
        "colab": {
          "base_uri": "https://localhost:8080/"
        },
        "id": "iV_p4igwGjrE",
        "outputId": "9f860b2b-47cc-4493-accd-1eb28834f1a9"
      },
      "outputs": [
        {
          "data": {
            "text/plain": [
              "0.8441558441558441"
            ]
          },
          "execution_count": 54,
          "metadata": {},
          "output_type": "execute_result"
        }
      ],
      "source": [
        "accuracy_score(o_ts,ct_pred)"
      ]
    },
    {
      "cell_type": "code",
      "execution_count": null,
      "metadata": {
        "id": "ssm0lPfgkE3O"
      },
      "outputs": [],
      "source": [
        "df_lr = df_main.drop([ 'category','aman_gupta(in/out)', 'Anupam(in/out)',\n",
        "       'ashneer(in/out)', 'Namita(in/out)', 'vineeta(in/out)','prerevenue', 'B2B_B2C'],axis=1)"
      ]
    },
    {
      "cell_type": "code",
      "execution_count": null,
      "metadata": {
        "colab": {
          "base_uri": "https://localhost:8080/"
        },
        "id": "B5djiHZTkTeO",
        "outputId": "edce04a2-3400-4fb9-9ab2-36038171273e"
      },
      "outputs": [
        {
          "data": {
            "text/plain": [
              "Index(['companyEvaluation _(in lakhs)', 'client_est_fund',\n",
              "       'client_equity(in %)', 'current_investors', 'present_competitor',\n",
              "       'yearly_revenue', 'gross_margin', 'shark_estimated_valuation',\n",
              "       'shark_est_invest', 'shark_equity', 'no_of_shark_team_during_proposal',\n",
              "       'no_of_shark_with_confirmed_deal', 'client_acceptance', 'Domain',\n",
              "       'market(%)', 'monthly_sales'],\n",
              "      dtype='object')"
            ]
          },
          "execution_count": 58,
          "metadata": {},
          "output_type": "execute_result"
        }
      ],
      "source": [
        "df_lr.columns"
      ]
    },
    {
      "cell_type": "code",
      "execution_count": null,
      "metadata": {
        "id": "ft0ijEtnmnRw"
      },
      "outputs": [],
      "source": [
        "df_ar = np.array(df_lr)"
      ]
    },
    {
      "cell_type": "code",
      "execution_count": null,
      "metadata": {
        "id": "B83tniObxuw3"
      },
      "outputs": [],
      "source": [
        "x = df_ar[:70,0:7]"
      ]
    },
    {
      "cell_type": "code",
      "execution_count": null,
      "metadata": {
        "id": "YJf3_0zbkcEt"
      },
      "outputs": [],
      "source": [
        "y = df_ar[:70,7]"
      ]
    },
    {
      "cell_type": "code",
      "execution_count": null,
      "metadata": {
        "id": "nD6FTEJln9Td"
      },
      "outputs": [],
      "source": [
        "x_test = df_ar[70:,0:7]"
      ]
    },
    {
      "cell_type": "code",
      "execution_count": null,
      "metadata": {
        "id": "inCxM0PzoQkY"
      },
      "outputs": [],
      "source": [
        "y_test = df_ar[70:,7]"
      ]
    },
    {
      "cell_type": "code",
      "execution_count": null,
      "metadata": {
        "colab": {
          "base_uri": "https://localhost:8080/"
        },
        "id": "9LyZxLwQHARX",
        "outputId": "3771e864-eed5-41b8-de16-b789e6da0820"
      },
      "outputs": [
        {
          "data": {
            "text/plain": [
              "(67,)"
            ]
          },
          "execution_count": 64,
          "metadata": {},
          "output_type": "execute_result"
        }
      ],
      "source": [
        "y_test.shape"
      ]
    },
    {
      "cell_type": "code",
      "execution_count": null,
      "metadata": {
        "colab": {
          "base_uri": "https://localhost:8080/"
        },
        "id": "hRDZCJz9yP9C",
        "outputId": "a0982e37-0049-4445-8c7e-36222302d953"
      },
      "outputs": [
        {
          "data": {
            "text/plain": [
              "(70,)"
            ]
          },
          "execution_count": 65,
          "metadata": {},
          "output_type": "execute_result"
        }
      ],
      "source": [
        "y.shape"
      ]
    },
    {
      "cell_type": "code",
      "execution_count": null,
      "metadata": {
        "id": "F0vSvw5IEwER"
      },
      "outputs": [],
      "source": [
        "from sklearn.linear_model import LinearRegression"
      ]
    },
    {
      "cell_type": "code",
      "execution_count": null,
      "metadata": {
        "colab": {
          "base_uri": "https://localhost:8080/"
        },
        "id": "v6aC9HERFXaz",
        "outputId": "4393a882-c1c5-4ea4-e971-bc4c8c68e152"
      },
      "outputs": [
        {
          "data": {
            "text/plain": [
              "LinearRegression()"
            ]
          },
          "execution_count": 67,
          "metadata": {},
          "output_type": "execute_result"
        }
      ],
      "source": [
        "lr = LinearRegression()\n",
        "lr.fit(x,y)"
      ]
    },
    {
      "cell_type": "code",
      "execution_count": null,
      "metadata": {
        "colab": {
          "base_uri": "https://localhost:8080/"
        },
        "id": "SWKkbIkwMk3H",
        "outputId": "21d58b71-199e-4358-b16a-da28e5103e09"
      },
      "outputs": [
        {
          "data": {
            "text/plain": [
              "array([1000.0, 50.0, 5.0, 0.0, 6.0, 109.0, 79.0], dtype=object)"
            ]
          },
          "execution_count": 68,
          "metadata": {},
          "output_type": "execute_result"
        }
      ],
      "source": [
        "x[0]"
      ]
    },
    {
      "cell_type": "code",
      "execution_count": null,
      "metadata": {
        "id": "tGw6ue17Fjz8"
      },
      "outputs": [],
      "source": [
        "y_pred_lr = lr.predict(x_test)"
      ]
    },
    {
      "cell_type": "code",
      "execution_count": null,
      "metadata": {
        "colab": {
          "base_uri": "https://localhost:8080/"
        },
        "id": "13HNcoOlHIsV",
        "outputId": "d8ccafbe-fc6a-4045-fe88-f659872f0bb5"
      },
      "outputs": [
        {
          "data": {
            "text/plain": [
              "array([ 862.69857269,  566.20621601,  384.91878967,  988.05319859,\n",
              "       1015.88202006,  622.08572395, 1200.02576759,  478.46040768,\n",
              "       1198.05565455,  507.08645556,  758.56905034,  601.68984164,\n",
              "        703.28086128, 1001.90381855,  576.1871166 ,  627.72516555,\n",
              "        390.54535853,  819.46589287, 1159.27452054,  164.824898  ,\n",
              "       1131.27296402,  154.40705448,  966.74433624,   95.23871078,\n",
              "        340.18828773,  612.96721817,  472.44958616,  978.05064944,\n",
              "        365.73318195,  906.61951095, 1051.43167137,  664.40072412,\n",
              "        356.77937387,  969.79288471,  849.36235943,  321.43444753,\n",
              "       1285.94235666,  585.00513545,  753.53114363,  360.78560567,\n",
              "         95.54046018,  772.35278458,  569.3380189 ,  520.35847594,\n",
              "         96.21651836,  906.57144137,  627.50621204,  984.74179364,\n",
              "        839.925613  ,  615.75932122,  835.07464857,  588.6626667 ,\n",
              "       1020.67440601, 1106.96938756,  481.61699637,  455.27049713,\n",
              "        762.7102538 ,  995.49878869, 1173.96341926, 1159.08246178,\n",
              "       1154.43099866,  671.84246487,  267.08491388, 1045.96777827,\n",
              "        456.40344165,  796.76679976,  528.01706678])"
            ]
          },
          "execution_count": 70,
          "metadata": {},
          "output_type": "execute_result"
        }
      ],
      "source": [
        "y_pred_lr"
      ]
    },
    {
      "cell_type": "code",
      "execution_count": null,
      "metadata": {
        "colab": {
          "base_uri": "https://localhost:8080/"
        },
        "id": "W1nez0fdIJgt",
        "outputId": "6ac25fc0-9e85-4a3e-801b-6f33d48da89c"
      },
      "outputs": [
        {
          "data": {
            "text/plain": [
              "array([350.0, 500.0, 600.0, 300.0, 1500.0, 280.0, 650.0, 750.0, 1000.0,\n",
              "       700.0, 450.0, 300.0, 660.0, 860.0, 350.0, 260.0, 320.0, 500.0,\n",
              "       980.0, 480.0, 600.0, 600.0, 700.0, 360.0, 510.0, 800.0, 900.0,\n",
              "       1500.0, 320.0, 700.0, 850.0, 220.0, 400.0, 500.0, 500.0, 360.0,\n",
              "       1300.0, 470.0, 440.0, 270.0, 400.0, 900.0, 360.0, 400.0, 430.0,\n",
              "       700.0, 500.0, 700.0, 450.0, 600.0, 400.0, 560.0, 530.0, 720.0,\n",
              "       400.0, 500.0, 500.0, 680.0, 900.0, 1000.0, 950.0, 700.0, 240.0,\n",
              "       800.0, 370.0, 580.0, 800.0], dtype=object)"
            ]
          },
          "execution_count": 71,
          "metadata": {},
          "output_type": "execute_result"
        }
      ],
      "source": [
        "y_test"
      ]
    },
    {
      "cell_type": "code",
      "execution_count": null,
      "metadata": {
        "colab": {
          "base_uri": "https://localhost:8080/"
        },
        "id": "QEynEfCgHyDk",
        "outputId": "4cba4c94-6722-4206-b955-220e5c0cc0d9"
      },
      "outputs": [
        {
          "data": {
            "text/plain": [
              "248.08483680971617"
            ]
          },
          "execution_count": 72,
          "metadata": {},
          "output_type": "execute_result"
        }
      ],
      "source": [
        "mean_absolute_error(y_test,y_pred_lr)"
      ]
    },
    {
      "cell_type": "code",
      "execution_count": null,
      "metadata": {
        "id": "8mKqRqtFnF78"
      },
      "outputs": [],
      "source": [
        "from sklearn.tree import DecisionTreeRegressor"
      ]
    },
    {
      "cell_type": "code",
      "execution_count": null,
      "metadata": {
        "id": "nK6ZBuSunMZE"
      },
      "outputs": [],
      "source": [
        "rgr = DecisionTreeRegressor(random_state = 21)"
      ]
    },
    {
      "cell_type": "code",
      "execution_count": null,
      "metadata": {
        "colab": {
          "base_uri": "https://localhost:8080/"
        },
        "id": "PM2AvdxXnRll",
        "outputId": "00e38e06-58ef-4f71-90b6-e85e95d89a46"
      },
      "outputs": [
        {
          "data": {
            "text/plain": [
              "DecisionTreeRegressor(random_state=21)"
            ]
          },
          "execution_count": 75,
          "metadata": {},
          "output_type": "execute_result"
        }
      ],
      "source": [
        "rgr.fit(x,y)"
      ]
    },
    {
      "cell_type": "code",
      "execution_count": null,
      "metadata": {
        "id": "AjaIKguLndLE"
      },
      "outputs": [],
      "source": [
        "y_pred = rgr.predict(x_test)"
      ]
    },
    {
      "cell_type": "code",
      "execution_count": null,
      "metadata": {
        "colab": {
          "base_uri": "https://localhost:8080/"
        },
        "id": "616jfpj2oxqY",
        "outputId": "487d8200-5bbd-4a2c-d665-47645f491f2a"
      },
      "outputs": [
        {
          "data": {
            "text/plain": [
              "array([350.0, 500.0, 600.0, 300.0, 1500.0, 280.0, 650.0, 750.0, 1000.0,\n",
              "       700.0, 450.0, 300.0, 660.0, 860.0, 350.0, 260.0, 320.0, 500.0,\n",
              "       980.0, 480.0, 600.0, 600.0, 700.0, 360.0, 510.0, 800.0, 900.0,\n",
              "       1500.0, 320.0, 700.0, 850.0, 220.0, 400.0, 500.0, 500.0, 360.0,\n",
              "       1300.0, 470.0, 440.0, 270.0, 400.0, 900.0, 360.0, 400.0, 430.0,\n",
              "       700.0, 500.0, 700.0, 450.0, 600.0, 400.0, 560.0, 530.0, 720.0,\n",
              "       400.0, 500.0, 500.0, 680.0, 900.0, 1000.0, 950.0, 700.0, 240.0,\n",
              "       800.0, 370.0, 580.0, 800.0], dtype=object)"
            ]
          },
          "execution_count": 77,
          "metadata": {},
          "output_type": "execute_result"
        }
      ],
      "source": [
        "y_test"
      ]
    },
    {
      "cell_type": "code",
      "execution_count": null,
      "metadata": {
        "colab": {
          "base_uri": "https://localhost:8080/"
        },
        "id": "lh9YkXu5pQmP",
        "outputId": "f9ad466a-e80c-4097-e923-cc039ab061f8"
      },
      "outputs": [
        {
          "data": {
            "text/plain": [
              "array([ 357.,  250.,  550.,  357.,  133.,  500., 1041.,  600.,  860.,\n",
              "        600.,  357.,  330.,  600.,  600.,  580.,  500.,  700.,  800.,\n",
              "       1500.,  600.,  525.,  700.,  525.,  168.,  900.,  600.,  800.,\n",
              "       2400.,  580.,  860., 1041.,  330.,  900.,  860.,  860.,  580.,\n",
              "       1560.,  700., 1041.,  360.,  900.,  600.,  250.,  357.,  700.,\n",
              "        600.,  250.,  860.,  580.,  700.,  860.,  600.,  525.,  525.,\n",
              "        860.,  900.,  330., 1041., 1041., 1041., 1560.,  600.,  360.,\n",
              "        600.,  580., 1041.,  900.])"
            ]
          },
          "execution_count": 78,
          "metadata": {},
          "output_type": "execute_result"
        }
      ],
      "source": [
        "y_pred"
      ]
    },
    {
      "cell_type": "code",
      "execution_count": null,
      "metadata": {
        "colab": {
          "base_uri": "https://localhost:8080/"
        },
        "id": "9-nzJ3jcpiVf",
        "outputId": "20f3b003-12be-499e-b2c4-d71b10c5bbc9"
      },
      "outputs": [
        {
          "data": {
            "text/plain": [
              "245.91044776119404"
            ]
          },
          "execution_count": 79,
          "metadata": {},
          "output_type": "execute_result"
        }
      ],
      "source": [
        "mean_absolute_error(y_test,y_pred)"
      ]
    }
  ],
  "metadata": {
    "colab": {
      "provenance": []
    },
    "kernelspec": {
      "display_name": "Python 3 (ipykernel)",
      "language": "python",
      "name": "python3"
    },
    "language_info": {
      "codemirror_mode": {
        "name": "ipython",
        "version": 3
      },
      "file_extension": ".py",
      "mimetype": "text/x-python",
      "name": "python",
      "nbconvert_exporter": "python",
      "pygments_lexer": "ipython3",
      "version": "3.9.12"
    }
  },
  "nbformat": 4,
  "nbformat_minor": 0
}
